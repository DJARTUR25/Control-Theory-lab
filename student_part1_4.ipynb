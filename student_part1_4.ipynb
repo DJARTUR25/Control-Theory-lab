{
 "cells": [
  {
   "cell_type": "markdown",
   "metadata": {
    "editable": true,
    "slideshow": {
     "slide_type": ""
    },
    "tags": []
   },
   "source": [
    "<span style=\"font-size:3em;font-weight:500\">Стабилизация перевёрнутого маятника с неподвижной осью подвеса</span>\n",
    "\n",
    "<span style=\"font-size:2em;font-weight:500\">Расчётно-графическая работа для лабораторного практикума. Задания. Часть 1. Линейные и нелинейные стратегии управления</span>\n",
    "\n",
    "**Автор: В. А. Костин**  \n",
    "\n",
    "**2025 год**\n",
    "$\\newcommand{\\ctg}{\\mathop{\\mathrm{ctg}}\\nolimits}$\n",
    "$\\newcommand{\\tg}{\\mathop{\\mathrm{tg}}\\nolimits}$\n",
    "$\\newcommand{\\arctg}{\\mathop{\\mathrm{arctg}}\\nolimits}$\n",
    "$\\newcommand{\\degree}{^{\\circ}}$\n",
    "$\\renewcommand{\\Re}{\\mathop{\\mathrm{Re}}\\nolimits}$\n",
    "$\\newcommand{\\D}{\\mathrm{d}}$"
   ]
  },
  {
   "cell_type": "markdown",
   "metadata": {
    "editable": true,
    "slideshow": {
     "slide_type": ""
    },
    "tags": []
   },
   "source": [
    "# Задание 1. Инициализация параметров маятника"
   ]
  },
  {
   "cell_type": "markdown",
   "metadata": {
    "editable": true,
    "slideshow": {
     "slide_type": ""
    },
    "tags": []
   },
   "source": [
    "*Запишите в соответствующие переменные номер группы, фамилию, имя и отчество выполняющего работу.* *После этого запустите на выполнение изменённую ячейку и три следующие ячейки с кодом*. Запустить на выполнение текущую (в которой находится курсов) ячейку можно с помощью сочетания клавиш `Shift` и `Enter` или с помощью кнопки `Run` на панели инструментов. В результате выполнения этих ячеек будут исполнены подготовительные инструкции, подключены необходимые научные пакеты и вспомогательный модуль `control_theory`. Кроме этого будут созданы индивидуальные виртуальные маятники `p1` и `p2` со случайно сгенерированными параметрами (на основе предоставленных данных в качестве зерна случайной генерации). Для маятника `p1` управляющим воздействием является внешний момент сил, а для маятника `p2`&nbsp;— горизонтальная сила; оба маятника имеют одну и ту же частоту и коэффициент затухания. При перезапуске ядра Python необходимо каждый раз запускать эти четыре ячейки заново. Перед выходом или обновлением страницы используйте кнопку сохранения `Save and create checkpoint` (с пиктограммой, изображающей мягкий магнитный диск) или соответствующий пункт в меню `File` или сочетание клавиш `Control` и `S`."
   ]
  },
  {
   "cell_type": "markdown",
   "metadata": {
    "editable": true,
    "slideshow": {
     "slide_type": ""
    },
    "tags": []
   },
   "source": [
    "## Решение"
   ]
  },
  {
   "cell_type": "code",
   "execution_count": 5,
   "metadata": {
    "ExecuteTime": {
     "end_time": "2018-08-29T15:46:47.863024Z",
     "start_time": "2018-08-29T15:46:47.858022Z"
    },
    "editable": true,
    "init_cell": true,
    "slideshow": {
     "slide_type": ""
    },
    "tags": []
   },
   "outputs": [],
   "source": [
    "student_group = 'Группа'\n",
    "student_first_name = 'Имя'\n",
    "student_father_name = 'Отчество'\n",
    "student_last_name = 'Фамилия'"
   ]
  },
  {
   "cell_type": "markdown",
   "metadata": {
    "editable": true,
    "slideshow": {
     "slide_type": ""
    },
    "tags": []
   },
   "source": [
    "## Подключение и настройка необходимых модулей, инициализация маятника со случайно сгенерированными параметрами"
   ]
  },
  {
   "cell_type": "code",
   "execution_count": 7,
   "metadata": {
    "ExecuteTime": {
     "end_time": "2018-08-29T15:46:48.286235Z",
     "start_time": "2018-08-29T15:46:47.865376Z"
    },
    "editable": true,
    "init_cell": true,
    "slideshow": {
     "slide_type": ""
    },
    "tags": []
   },
   "outputs": [],
   "source": [
    "# Подключение объектов из библиотек numpy и matplotlib для более удобной\n",
    "# дальнейшей интерактивной работы\n",
    "from pylab import *\n",
    "\n",
    "# Подключение объектов из вспомогательного модуля control_theory\n",
    "from control_theory import *\n",
    "\n",
    "# Импорт функции `HTML` для отображения произвольного кода HTML в выводе\n",
    "# ячейки\n",
    "from IPython.display import HTML, Video, Image"
   ]
  },
  {
   "cell_type": "code",
   "execution_count": 8,
   "metadata": {
    "ExecuteTime": {
     "end_time": "2018-08-29T15:46:48.298495Z",
     "start_time": "2018-08-29T15:46:48.289443Z"
    },
    "editable": true,
    "init_cell": true,
    "slideshow": {
     "slide_type": ""
    },
    "tags": []
   },
   "outputs": [],
   "source": [
    "# Настройка вывода рисунков Matplotlib для интерактивной работы. Параметр\n",
    "# inline указывает на то, что рисунки matplotlib должны быть встроены как\n",
    "# растровые изображения, для интерактивных рисунков на javascript можно\n",
    "# использовать параметр notebook вместо inline. Команда %matplotlib --list\n",
    "# выводит список возможных типов вывода (бэкендов).\n",
    "%matplotlib inline\n",
    "\n",
    "# Настройка размеров и разрешения рисунков (960x720 по умолчанию, можно\n",
    "# изменить для комфортной работы на мониторах с малым разрешением)\n",
    "rcParams['figure.figsize'] = (9.6, 7.2) # Размер рисунков по умолчанию\n",
    "rcParams['figure.dpi'] = 100 # Разрешение рисунков по умолчанию\n",
    "\n",
    "rcParams['animation.embed_limit'] = 2.5 # Максимальный размер анимации в МБ\n",
    "rcParams['animation.html'] = 'html5' # Представление анимаций matplotlib "
   ]
  },
  {
   "cell_type": "code",
   "execution_count": 9,
   "metadata": {
    "ExecuteTime": {
     "end_time": "2018-08-29T15:46:48.369670Z",
     "start_time": "2018-08-29T15:46:48.301084Z"
    },
    "editable": true,
    "init_cell": true,
    "slideshow": {
     "slide_type": ""
    },
    "tags": []
   },
   "outputs": [
    {
     "name": "stdout",
     "output_type": "stream",
     "text": [
      "Pendulum controlled by applied torque: omega = 0.99, nu = 0.11\n",
      "Pendulum controlled by applied horizontal force: omega = 0.99, nu = 0.11\n"
     ]
    }
   ],
   "source": [
    "# Инициализация индивидуального маятника обучающегося\n",
    "seed = (int(hashlib.md5((student_group\n",
    "                         + student_first_name\n",
    "                         + student_father_name\n",
    "                         + student_last_name).encode('utf-8')).hexdigest(), 16)\n",
    "        % 2**32)\n",
    "np.random.seed(seed)\n",
    "\n",
    "temp = np.random.rand(2)\n",
    "p1 = PendulumTorque(0.3 + 1.5*temp[0], 0.01 + 0.1*temp[1]) \n",
    "p2 = PendulumHorizontalForce(0.3 + 1.5*temp[0], 0.01 + 0.1*temp[1])\n",
    "\n",
    "# Вывод параметров маятника\n",
    "print(p1, p2, sep='\\n')"
   ]
  },
  {
   "cell_type": "markdown",
   "metadata": {
    "editable": true,
    "slideshow": {
     "slide_type": ""
    },
    "tags": []
   },
   "source": [
    "<a name=\"sec:pr9\"></a>\n",
    "# Задание 9. Метод обратной задачи динамики"
   ]
  },
  {
   "cell_type": "markdown",
   "metadata": {
    "editable": true,
    "slideshow": {
     "slide_type": ""
    },
    "tags": []
   },
   "source": [
    "Общая теория линеаризации обратной связью достаточно сложна для начала курса теории управления и основана на методах дифференциальной геометрии, в частности на теореме Фробениуса, и, как мы увидем далее для маятника `p2`, такая линеаризация возможна не для всех систем. В предыдущем [задании 8](#sec:pr8) нам удалось провести линеаризацию обратной связью так легко, потому что управление выражалось явно через угол $\\varphi$ и его временные производные. Фактически уравнение&nbsp;[$(4)$](description.ipynb#eq:phi) явно выражает управление $u$,\n",
    "$$\n",
    "  u = -\\ddot \\varphi - \\nu\\dot\\varphi + \\Omega^2 \\sin\\varphi.\n",
    "$$\n",
    "По сути такое выражение даёт решение **обратной задачи динамики (_англ_ inverse problem)**, то есть задачи о том, какими должны быть внешние силы (в нашем случае момент сил), обеспечивающие заданное движение системы. При этом можно задаваться как конкретным движением $\\varphi(t)$, находя подходящее **программное управление** $u(t)$, так и некоторой целевой (желаемой) замкнутой системой $\\ddot\\varphi = g(\\varphi, \\dot\\varphi, t)$, которой должен подчиняться маятник под управлением. В самом деле, если выбрать стратегию управления\n",
    "$$\n",
    "  u = -g(\\varphi, \\dot\\varphi, t) - \\nu\\dot\\varphi + \\Omega^2 \\sin\\varphi,\n",
    "$$\n",
    "то замкнутая система как раз примет желаемый вид. А если положить $g(\\varphi, \\dot\\varphi, t) = -k_0\\varphi - (k_1 + \\nu) \\dot\\varphi$, получим систему линеаризованную обратной связью из предыдущего задания.\n",
    "\n",
    "В случае если целевое движение описывается системой меньшей размерности, чем два, то можно добавить дополнительные динамические звенья слежения, увеличив таким образом размерность системы до двух. Например, для системы $\\dot\\varphi = h(\\varphi, t)$ записываем уравнение $\\tau_{\\mathrm{g}} \\dot e + e = 0$ для ошибки $e = \\dot\\varphi - h(\\varphi, t)$, где $\\tau_{\\mathrm{g}} > 0$&nbsp;— время выхода на целевое решение. Аналогично для целевого движения $\\varphi = f(t)$ можно записать уравение второго порядка $(\\alpha\\tau_{\\mathrm{g}}^2/4) \\ddot e + \\tau_{\\mathrm{g}} \\dot e + e = 0$ для ошибки $e = \\varphi - f(t)$ с характерными временами $\\tau_{\\mathrm{g}} > 0$ и параметром $\\alpha > 0$, который определяет наличие и частоту переколебаний, а также относительную величину перерегулирования при выходе на целевой режим.\n",
    "\n",
    "*Используя метод обратной задачи динамики, синтезируйте управление (то есть запишите соответствующие формулы), которое реализует заданные установившиеся режимы*:\n",
    "- 1\\) *равномерное вращение маятника с заданной угловой скоростью $\\Omega_{\\mathrm{g}}$*;\n",
    "- 2\\) *отклонение маятника на постоянный угол $\\varphi_{\\mathrm{g}}$*;\n",
    "- 3\\) *гармонические колебания угла отклонения маятника от вертикали с амплитудой $\\varphi_{\\mathrm{g}}$ и частотой $\\Omega_{\\mathrm{g}}$*.\n",
    "\n",
    "*Для всех трёх примеров реализуйте регуляторы с помощью компьютерной симуляции (используйте класс `StateFeedbackControl`), постройте графики зависимостей угла отклонения и управления от времени и фазовые потреты замкнутых систем (на фазовых портретах отметьте устойчивые и неустойчивые аттракторы: состояния равновесия и предельные циклы). В симуляциях положите $\\tau_{\\mathrm{g}} = 10$, $\\alpha = 1$, $\\Omega_{\\mathrm{g}} = 1$, $\\varphi_{\\mathrm{g}} = \\pi/2$. В качестве начальных условий выберите маятник, стартующий из нижнего положения с нулевой скоростью. Для первого примера проверьте, что произойдёт, если при построении регуляторов была допущена ошибка в определении значения $\\Omega$ и оно оказалось занижено или завышено на 20 \\%.*"
   ]
  },
  {
   "cell_type": "markdown",
   "metadata": {
    "editable": true,
    "slideshow": {
     "slide_type": ""
    },
    "tags": []
   },
   "source": [
    "## Решение"
   ]
  },
  {
   "cell_type": "markdown",
   "metadata": {},
   "source": [
    "### 9.1. Целевой режим с равномерным вращением маятника"
   ]
  },
  {
   "cell_type": "markdown",
   "metadata": {},
   "source": [
    "*Запишите вывод аналитических выражений для синтезированного управления.*"
   ]
  },
  {
   "cell_type": "code",
   "execution_count": 15,
   "metadata": {},
   "outputs": [],
   "source": [
    "# Вставьте и запустите код для построения графиков временной реализации"
   ]
  },
  {
   "cell_type": "code",
   "execution_count": 16,
   "metadata": {},
   "outputs": [],
   "source": [
    "# Вставьте и запустите код для построения анимации (необязательно)"
   ]
  },
  {
   "cell_type": "code",
   "execution_count": 17,
   "metadata": {},
   "outputs": [],
   "source": [
    "# Вставьте и запустите код для построения фазового портрета"
   ]
  },
  {
   "cell_type": "markdown",
   "metadata": {},
   "source": [
    "### 9.2. Целевой режим с отклонением маятника на постоянный угол"
   ]
  },
  {
   "cell_type": "markdown",
   "metadata": {},
   "source": [
    "*Запишите вывод аналитических выражений для синтезированного управления.*"
   ]
  },
  {
   "cell_type": "code",
   "execution_count": 20,
   "metadata": {},
   "outputs": [],
   "source": [
    "# Вставьте и запустите код для построения графиков временной реализации"
   ]
  },
  {
   "cell_type": "code",
   "execution_count": 21,
   "metadata": {},
   "outputs": [],
   "source": [
    "# Вставьте и запустите код для построения анимации (необязательно)"
   ]
  },
  {
   "cell_type": "code",
   "execution_count": 22,
   "metadata": {},
   "outputs": [],
   "source": [
    "# Вставьте и запустите код для построения фазового портрета"
   ]
  },
  {
   "cell_type": "markdown",
   "metadata": {},
   "source": [
    "### 9.3. Целевой режим с гармоническими автоколебаниями маятника"
   ]
  },
  {
   "cell_type": "markdown",
   "metadata": {},
   "source": [
    "*Запишите вывод аналитических выражений для синтезированного управления.*"
   ]
  },
  {
   "cell_type": "code",
   "execution_count": 25,
   "metadata": {},
   "outputs": [],
   "source": [
    "# Вставьте и запустите код для построения графиков временной реализации"
   ]
  },
  {
   "cell_type": "code",
   "execution_count": 26,
   "metadata": {},
   "outputs": [],
   "source": [
    "# Вставьте и запустите код для построения анимации (необязательно)"
   ]
  },
  {
   "cell_type": "code",
   "execution_count": 27,
   "metadata": {},
   "outputs": [],
   "source": [
    "# Вставьте и запустите код для построения фазового портрета"
   ]
  },
  {
   "cell_type": "markdown",
   "metadata": {},
   "source": [
    "### 9.4. Целевой режим с равномерным вращением маятника при ошибке в определении $\\Omega$ "
   ]
  },
  {
   "cell_type": "code",
   "execution_count": 29,
   "metadata": {},
   "outputs": [],
   "source": [
    "# Вставьте и запустите код для построения графиков временной реализации"
   ]
  },
  {
   "cell_type": "code",
   "execution_count": 30,
   "metadata": {},
   "outputs": [],
   "source": [
    "# Вставьте и запустите код для построения анимации (необязательно)"
   ]
  },
  {
   "cell_type": "markdown",
   "metadata": {},
   "source": [
    "*Запишите аналитические выражения для отрицательных корней характеристических полиномов уравнений, линеаризованных около сёдел.*"
   ]
  },
  {
   "cell_type": "code",
   "execution_count": 32,
   "metadata": {},
   "outputs": [],
   "source": [
    "# Вставьте и запустите код для построения фазового портрета"
   ]
  },
  {
   "cell_type": "markdown",
   "metadata": {},
   "source": [
    "*Запишите вывод о том, что происходит, если допушена ошибка идентификации параметра $\\Omega$.*"
   ]
  },
  {
   "cell_type": "markdown",
   "metadata": {},
   "source": [
    "<a name=\"sec:pr10\"></a>\n",
    "# Задание 10. Периодические по углу стратегии управления"
   ]
  },
  {
   "cell_type": "markdown",
   "metadata": {},
   "source": [
    "С помощью метода линеаризации обратной связью в [задании 8](#sec:pr8) были построены регуляторы, которые одновременно являются стабилизирующими (удерживают маятник в вертикальном положении при малых отклонениях от него) и подъёмными (приводят маятник из любого состояния в окрестность верхнего положения равновесия). Однако для данной конкретной системы недостатком такого регулятора может являться то, что этот регулятор оказывается чувствительным к числу оборотов, то есть различает углы, отличающиеся на $2\\pi n$, $n \\in \\mathbb Z$. От этого недостатка можно избавиться, если синтезировать регулятор с замкнутой системой, инвариантной относительно замены $\\varphi \\mapsto \\varphi + 2\\pi$. Для этого опять можно использовать метод обратной динамики. В качестве замкнутой системы можно рассмотреть систему, аналогичную исходной незамкнутой, но с другим знаком коэффициента перед $\\sin\\varphi$: $\\ddot\\varphi + a\\dot\\varphi + b\\sin\\varphi = 0$, где $a$ и $b$&nbsp;— постоянные положительные коэффициенты. Для того чтобы иметь возможность сравнить с [заданием 8](#sec:pr8) можно выбрать значения коэффициентов так, чтобы линеаризации замкнутых систем совпадали с целевыми линейными системами в [задании 8](#sec:pr8), то есть $a = 1$, $b = 0.2$ и $a = 0.2$, $b = 1$. *Постройте такие регуляторы для маятника `p1`. Проведите компьютерные симуляции для начальных условий $\\varphi(0) = 5\\pi$, $\\dot\\varphi(0) = 0.001$. Постройте фазовые портреты.*\n",
    "\n",
    "Как видно, недостатком полученных систем является наличие дополнительного неустойвого состояния равновесия, вблизи которого система может проводить значительное время. Поэтому другим вариантом является использование систем с разрывами, например, $\\ddot\\varphi + a\\dot\\varphi + b\\mathop{\\mathrm{sawtooth}}\\varphi$, где $\\mathop{\\mathrm{sawtooth}} x = 2\\arctg \\tg(x/2) = \\pi - \\left[(\\pi - x) \\mathrel{\\mathrm{mod}} 2\\pi\\right]$&nbsp;— функция-пила. *Постройте и такие регуляторы  для маятника `p1`. Проведите компьютерные симуляции для начальных условий $\\varphi(0) = 5\\pi$, $\\dot\\varphi(0) = 0.001$. Постройте фазовые портреты.*"
   ]
  },
  {
   "cell_type": "markdown",
   "metadata": {},
   "source": [
    "## Решение"
   ]
  },
  {
   "cell_type": "markdown",
   "metadata": {},
   "source": [
    "### 10.1 Целевая система $\\ddot\\varphi + \\dot\\varphi + 0.2\\sin\\varphi = 0$"
   ]
  },
  {
   "cell_type": "markdown",
   "metadata": {},
   "source": [
    "*Запишите аналитическое выражение для синтезированного управления.*"
   ]
  },
  {
   "cell_type": "code",
   "execution_count": 39,
   "metadata": {
    "editable": true,
    "slideshow": {
     "slide_type": ""
    },
    "tags": []
   },
   "outputs": [],
   "source": [
    "# Вставьте и запустите код для построения графиков временной реализации"
   ]
  },
  {
   "cell_type": "code",
   "execution_count": 40,
   "metadata": {},
   "outputs": [],
   "source": [
    "# Вставьте и запустите код для построения анимации (необязательно)"
   ]
  },
  {
   "cell_type": "code",
   "execution_count": 41,
   "metadata": {},
   "outputs": [],
   "source": [
    "# Вставьте и запустите код для построения фазового портрета"
   ]
  },
  {
   "cell_type": "markdown",
   "metadata": {},
   "source": [
    "### 10.2. Целевая система $\\ddot\\varphi + 0.2\\dot\\varphi + \\sin\\varphi = 0$"
   ]
  },
  {
   "cell_type": "markdown",
   "metadata": {},
   "source": [
    "*Запишите аналитическое выражение для синтезированного управления.*"
   ]
  },
  {
   "cell_type": "code",
   "execution_count": 44,
   "metadata": {
    "editable": true,
    "slideshow": {
     "slide_type": ""
    },
    "tags": []
   },
   "outputs": [],
   "source": [
    "# Вставьте и запустите код для построения графиков временной реализации"
   ]
  },
  {
   "cell_type": "code",
   "execution_count": 45,
   "metadata": {},
   "outputs": [],
   "source": [
    "# Вставьте и запустите код для построения анимации (необязательно)"
   ]
  },
  {
   "cell_type": "code",
   "execution_count": 46,
   "metadata": {},
   "outputs": [],
   "source": [
    "# Вставьте и запустите код для построения фазового портрета"
   ]
  },
  {
   "cell_type": "markdown",
   "metadata": {},
   "source": [
    "### 10.3. Целевая система $\\ddot\\varphi + \\dot\\varphi + 0.2\\mathop{\\mathrm{sawtooth}}\\varphi = 0$"
   ]
  },
  {
   "cell_type": "markdown",
   "metadata": {},
   "source": [
    "*Запишите аналитическое выражение для синтезированного управления.*"
   ]
  },
  {
   "cell_type": "code",
   "execution_count": 49,
   "metadata": {
    "editable": true,
    "slideshow": {
     "slide_type": ""
    },
    "tags": []
   },
   "outputs": [],
   "source": [
    "# Вставьте и запустите код для построения графиков временной реализации"
   ]
  },
  {
   "cell_type": "code",
   "execution_count": 50,
   "metadata": {},
   "outputs": [],
   "source": [
    "# Вставьте и запустите код для построения анимации (необязательно)"
   ]
  },
  {
   "cell_type": "code",
   "execution_count": 51,
   "metadata": {},
   "outputs": [],
   "source": [
    "# Вставьте и запустите код для построения фазового портрета"
   ]
  },
  {
   "cell_type": "markdown",
   "metadata": {},
   "source": [
    "### 10.4. Целевая система $\\ddot\\varphi + 0.2\\dot\\varphi + \\mathop{\\mathrm{sawtooth}}\\varphi = 0$"
   ]
  },
  {
   "cell_type": "markdown",
   "metadata": {},
   "source": [
    "*Запишите аналитическое выражение для синтезированного управления.*"
   ]
  },
  {
   "cell_type": "code",
   "execution_count": 54,
   "metadata": {
    "editable": true,
    "slideshow": {
     "slide_type": ""
    },
    "tags": []
   },
   "outputs": [],
   "source": [
    "# Вставьте и запустите код для построения графиков временной реализации"
   ]
  },
  {
   "cell_type": "code",
   "execution_count": 55,
   "metadata": {},
   "outputs": [],
   "source": [
    "# Вставьте и запустите код для построения анимации (необязательно)"
   ]
  },
  {
   "cell_type": "code",
   "execution_count": 56,
   "metadata": {},
   "outputs": [],
   "source": [
    "# Вставьте и запустите код для построения фазового портрета"
   ]
  },
  {
   "cell_type": "markdown",
   "metadata": {
    "editable": true,
    "slideshow": {
     "slide_type": ""
    },
    "tags": []
   },
   "source": [
    "<a name=\"sec:pr11\"></a>\n",
    "# Задание 11. Показатели качества"
   ]
  },
  {
   "cell_type": "markdown",
   "metadata": {},
   "source": [
    "Кроме собственно требования устойчивости (стабилизации верхнего положения равновесия), к системе управления могут предъявляться и иные требования, в совокупности именуемые **качеством системы управления (_англ._ performance of a control system)**. Это могут быть требования к самому управлению $u$, например ограничение на прикладываемую силу, то есть на максимальное по времени значение модуля, $u_{\\max} = \\max_{t > 0}\\left|u(t)\\right|$, для определённых начальных отклонений.\n",
    "Может накладываться и ограничение на энергию, затраченную на приведение, то есть ограничение на $W = \\int_0^{\\inf} u^2(t) \\,\\D{t}$. Часто ставятся ограничения на характеристики переходного процесса, например на величину перерегулирования, то есть на максимальную по времени величину отклонения маятника в сторону, противоположную начальному отклонению. Могут задаваться как требования на относительную величину перегулирования $\\sigma = -\\min_{t > 0} \\frac{\\varphi(t)}{\\varphi(0)}$ (обычно, выражаемую в процентах), так и на абсолютную $\\sigma\\left|\\varphi(0)\\right|$. Важным показателем качества является время установления (время регулирования), которое можно определять различными способами, например как то верхнюю грань времён, для которых отклонение больше некоторой доли $\\beta$ начального отклонения. Здесь мы будем использовать определение\n",
    "$$\\tau_{\\mathrm{r}} = \\frac 1{\\ln(1/\\beta)}\\sup_{d(t) > \\beta d(0)} t$$\n",
    "с $\\beta = 5\\ \\%$ и $d(t) = \\sqrt{\\dot\\varphi^2(t) + 2\\Omega^2\\sin^2(\\varphi/2)}$&nbsp;— вариант расстояния на фазовом цилиндре между точками $(\\varphi, \\dot\\varphi)$ и $(0, 0)$. Нормирующий множитель $\\frac 1{\\ln(1/\\beta)}$ здесь введён, для того чтобы для экспоненциального установления $d(t) \\propto \\exp(-\\gamma t)$ имело место $\\tau_{\\mathrm{r}} = 1/\\gamma$. Для сильно зашумлённых сигналов удобно определять время установления интегрально, например как\n",
    "$$\\tau_{\\mathrm{est}} = 2\\frac{\\int_0^{\\infty} t d^2(t)\\,\\D t}{\\int_0^{\\infty} d^2(t)\\,\\D t}.$$\n",
    "Для экспоненциального затухания $d(t) \\propto \\exp(-\\gamma t)$ оба определения дают одну и ту же величину $\\tau_{\\mathrm{est}} = \\tau_{\\mathrm{r}} = 1/\\gamma$.\n",
    "В определение $\\tau_{\\mathrm{est}}$ входит другой часто используемый показатель&nbsp;— интегральная квадратичная ошибка $J = \\int_0^{\\infty} d^2(t)\\,\\D t$, также характеризующая скорость установления. В случае если бассейн притяжения целевого режима не совпадает со всем фазовым пространством, можно рассматривать характеристики этого бассейна, как например критический начальный угол $\\varphi_{\\mathrm{c}}$ для маятника `p2`, введённый в [задании 7](#sec:pr7), или аналогично вводимую критическую начальную угловую скорость.\n",
    "\n",
    "*Расширив пример, приведённый ниже, рассчитайте показатели качества $u_{\\max}$, $W$, $\\sigma$, $\\tau_{\\mathrm{r}}$, $\\tau_{\\mathrm{est}}$ и $J_0$ как функцию коэффициента $b \\in [0.1\\Omega^2, 5\\Omega^2]$ для целевых замкнутых систем из предыдущего [задания 9](#sec:pr9). Рассмотрите начальные условия $\\varphi(0) = 0.1\\pi$, $0.5\\pi$, $0.9\\pi$ для значений коэффциентов $a = 0.2$ и $a = 1$. Какие рекомендации можно дать относительно выбора коэффциентов $a$ и $b$ и вида стратегии управления (из двух рассмотренных).*"
   ]
  },
  {
   "cell_type": "markdown",
   "metadata": {},
   "source": [
    "## Пример построения показателей качества $u_{\\max}$ и $W$ для линейных стратегий управления"
   ]
  },
  {
   "cell_type": "code",
   "execution_count": 60,
   "metadata": {},
   "outputs": [
    {
     "data": {
      "image/png": "[encoded data removed]",
      "text/plain": [
       "<Figure size 960x720 with 6 Axes>"
      ]
     },
     "metadata": {},
     "output_type": "display_data"
    }
   ],
   "source": [
    "# Функция для нахождения расстояния на цилиндре\n",
    "def cylinder_distance(s):\n",
    "    return sqrt(s[:, 1]**2/2 + 2*p1.omega**2*sin(s[:, 0]/2)**2)\n",
    "\n",
    "# Расчёт показателей качества для управления c и начальных условий x0\n",
    "def performance_indicators(c, x0):\n",
    "    t, s, u = integrate(p1, c, x0=x0, v0=empty(0), dt=0.01, T=300, N=1,\n",
    "                        return_control=True,\n",
    "                        stop_condition=lambda x, t: norm(x) < 1e-8)\n",
    "    umax = amax(abs(u[:, 0]))\n",
    "    W = trapz(u[:, 0]**2, t)\n",
    "    sigma = nan # nan везде необходимо заменить на правильный код\n",
    "    taur = nan\n",
    "    J0 = nan\n",
    "    tauest = nan / J0\n",
    "    return (umax, W, sigma, taur, tauest, J0)\n",
    "\n",
    "# Значения коэффциента b\n",
    "bs = linspace(0.1*p1.omega**2, 5*p1.omega**2, 40)\n",
    "\n",
    "# Расчёт показателей для линейных управлений в цикле по всем значениям b из bs\n",
    "# для начальных условий $\\varphi(0) = 0.1\\pi$, $\\dot\\varphi(0) = 0$ и $a = 0.2$\n",
    "a = 0.2\n",
    "indicators1 = [performance_indicators(\n",
    "    StateFeedbackControl(2, 1, lambda x: [(a-p1.nu)*x[1]\n",
    "                                          + (b+p1.omega**2)*x[0]]),\n",
    "    [0.1*pi, 0]) for b in bs]\n",
    "indicators1 = array(indicators1)\n",
    "\n",
    "subplot(2, 3, 1)\n",
    "plot(bs, indicators1[:, 0], label='линейная стратегия управления, $a = 0.2$')\n",
    "# В заданиях ниже на каждой панели нужно изобразить показатели для a = 0.2 и 1, \n",
    "# а также для двух типов замкнутых нелинейных система (всего по 4 графика на\n",
    "# панель)\n",
    "gca().set_ylim(bottom=0) # Нижний предел по вертикальной оси устанавливается в 0\n",
    "                         # для наглядности\n",
    "legend(fontsize='xx-small')\n",
    "ylabel(r'Максимальное управление $u_{\\max}$')\n",
    "\n",
    "subplot(2, 3, 2)\n",
    "plot(bs, indicators1[:, 1])\n",
    "gca().set_ylim(bottom=0)\n",
    "ylabel(r'Затраченная энергия $W$')\n",
    "\n",
    "subplot(2, 3, 3)\n",
    "plot(bs, indicators1[:, 2])\n",
    "gca().set_ylim(bottom=0)\n",
    "ylabel(r'Перерегулирование $\\sigma$')\n",
    "\n",
    "subplot(2, 3, 4)\n",
    "plot(bs, indicators1[:, 3])\n",
    "gca().set_ylim(bottom=0)\n",
    "xlabel(r'Коэффициент $b$')\n",
    "ylabel(r'Время регулирования $\\tau_{\\mathrm{r}}$')\n",
    "\n",
    "subplot(2, 3, 5)\n",
    "plot(bs, indicators1[:, 4])\n",
    "gca().set_ylim(bottom=0)\n",
    "xlabel(r'Коэффициент $b$')\n",
    "ylabel(r'Время регулирования $\\tau_{\\mathrm{est}}$')\n",
    "\n",
    "subplot(2, 3, 6)\n",
    "plot(bs, indicators1[:, 5])\n",
    "gca().set_ylim(bottom=0)\n",
    "xlabel(r'Коэффициент $b$')\n",
    "ylabel(r'Инт. квадр. ошибка $J$')\n",
    "suptitle(r'Показатели качества линейного управления')\n",
    "tight_layout();"
   ]
  },
  {
   "cell_type": "markdown",
   "metadata": {},
   "source": [
    "## Решение"
   ]
  },
  {
   "cell_type": "markdown",
   "metadata": {},
   "source": [
    "### 11.1. Показатели качества при $\\varphi(0) = 0.1\\pi$, $\\dot\\varphi(0) = 0$"
   ]
  },
  {
   "cell_type": "code",
   "execution_count": 63,
   "metadata": {},
   "outputs": [],
   "source": [
    "# Вставьте и запустите код для построения графиков зависимостей показателей качества от параметра управления"
   ]
  },
  {
   "cell_type": "markdown",
   "metadata": {},
   "source": [
    "### 11.2. Показатели качества при $\\varphi(0) = 0.5\\pi$, $\\dot\\varphi(0) = 0$"
   ]
  },
  {
   "cell_type": "code",
   "execution_count": 65,
   "metadata": {},
   "outputs": [],
   "source": [
    "# Вставьте и запустите код для построения графиков зависимостей показателей качества от параметра управления"
   ]
  },
  {
   "cell_type": "markdown",
   "metadata": {},
   "source": [
    "### 11.3. Показатели качества при $\\varphi(0) = 0.9\\pi$, $\\dot\\varphi(0) = 0$"
   ]
  },
  {
   "cell_type": "code",
   "execution_count": 67,
   "metadata": {},
   "outputs": [],
   "source": [
    "# Вставьте и запустите код для построения графиков зависимостей показателей качества от параметра управления"
   ]
  }
 ],
 "metadata": {
  "celltoolbar": "Initialization Cell",
  "kernelspec": {
   "display_name": "Python 3 (ipykernel)",
   "language": "python",
   "name": "python3"
  },
  "language_info": {
   "codemirror_mode": {
    "name": "ipython",
    "version": 3
   },
   "file_extension": ".py",
   "mimetype": "text/x-python",
   "name": "python",
   "nbconvert_exporter": "python",
   "pygments_lexer": "ipython3",
   "version": "3.8.18"
  },
  "latex_envs": {
   "LaTeX_envs_menu_present": true,
   "autoclose": false,
   "autocomplete": true,
   "bibliofile": "biblio.bib",
   "cite_by": "apalike",
   "current_citInitial": 1,
   "eqLabelWithNumbers": true,
   "eqNumInitial": 1,
   "hotkeys": {
    "equation": "Ctrl-E",
    "itemize": "Ctrl-I"
   },
   "labels_anchors": false,
   "latex_user_defs": false,
   "report_style_numbering": false,
   "user_envs_cfg": false
  },
  "toc": {
   "base_numbering": 1,
   "nav_menu": {},
   "number_sections": true,
   "sideBar": true,
   "skip_h1_title": false,
   "title_cell": "Table of Contents",
   "title_sidebar": "Contents",
   "toc_cell": false,
   "toc_position": {
    "height": "688px",
    "left": "0px",
    "right": "1333px",
    "top": "111px",
    "width": "267px"
   },
   "toc_section_display": "block",
   "toc_window_display": true
  },
  "varInspector": {
   "cols": {
    "lenName": 16,
    "lenType": 16,
    "lenVar": 40
   },
   "kernels_config": {
    "python": {
     "delete_cmd_postfix": "",
     "delete_cmd_prefix": "del ",
     "library": "var_list.py",
     "varRefreshCmd": "print(var_dic_list())"
    },
    "r": {
     "delete_cmd_postfix": ") ",
     "delete_cmd_prefix": "rm(",
     "library": "var_list.r",
     "varRefreshCmd": "cat(var_dic_list()) "
    }
   },
   "types_to_exclude": [
    "module",
    "function",
    "builtin_function_or_method",
    "instance",
    "_Feature"
   ],
   "window_display": false
  }
 },
 "nbformat": 4,
 "nbformat_minor": 4
}
